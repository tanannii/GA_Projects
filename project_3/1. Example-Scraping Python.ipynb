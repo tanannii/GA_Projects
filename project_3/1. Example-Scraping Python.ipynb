{
 "cells": [
  {
   "cell_type": "code",
   "execution_count": 3,
   "id": "6d7d04ac",
   "metadata": {},
   "outputs": [],
   "source": [
    "# import libraries\n",
    "import requests\n",
    "import pandas as pd\n",
    "import time\n",
    "\n",
    "pd.set_option('display.max_columns', 500)\n",
    "pd.options.mode.chained_assignment = None  # default='warn'"
   ]
  },
  {
   "cell_type": "code",
   "execution_count": 4,
   "id": "bb5a5ac7",
   "metadata": {},
   "outputs": [],
   "source": [
    "# set parameters Python\n",
    "params_python = {\n",
    "    'subreddit': 'Python',\n",
    "    'size': 100, #max no of post we are allowed to scrap at any one time\n",
    "    'after': 1604160000, # after 1 Apr 2020\n",
    "    'before': 1667232000 # before 1 Apr 2021\n",
    "}\n",
    "\n",
    "url = 'https://api.pushshift.io//reddit/search/submission'\n",
    "\n",
    "# get first tranche of data in a list. This retrieves the earliest 100 submissions\n",
    "res_python = requests.get(url, params_python)\n",
    "res_data_python = res_python.json()['data']\n",
    "\n",
    "res_data_python_add = ['empty']\n",
    "\n",
    "# update the 'after' params with the latest timestamp and retrieve the next 100 submissions\n",
    "while len(res_data_python_add) > 0:\n",
    "    time.sleep(3)\n",
    "    params_python['after'] = res_data_python[-1]['created_utc']\n",
    "    res_data_python_add = requests.get(url, params_python).json()['data']\n",
    "    res_data_python += res_data_python_add"
   ]
  },
  {
   "cell_type": "code",
   "execution_count": null,
   "id": "b5fb4d2c",
   "metadata": {},
   "outputs": [],
   "source": [
    "# finding out the number of Python's data points\n",
    "len(res_data_python)"
   ]
  },
  {
   "cell_type": "code",
   "execution_count": null,
   "id": "624e891b",
   "metadata": {},
   "outputs": [],
   "source": [
    "# checking on one Zoom data point\n",
    "res_data_python[:1]"
   ]
  },
  {
   "cell_type": "code",
   "execution_count": null,
   "id": "bad1fbc7",
   "metadata": {},
   "outputs": [],
   "source": [
    "# turning it from json to Pandas to work on it easily\n",
    "dfpython = pd.DataFrame(res_data_python)"
   ]
  },
  {
   "cell_type": "code",
   "execution_count": null,
   "id": "4d6c8f2a",
   "metadata": {},
   "outputs": [],
   "source": [
    "# customary checks - .info / .head\n",
    "dfpython.info()"
   ]
  },
  {
   "cell_type": "code",
   "execution_count": null,
   "id": "8716c761",
   "metadata": {},
   "outputs": [],
   "source": [
    "dfpython.head()"
   ]
  },
  {
   "cell_type": "code",
   "execution_count": null,
   "id": "5e446096",
   "metadata": {},
   "outputs": [],
   "source": [
    "# exporting to csv\n",
    "dfpython.to_csv('./python.csv', index=False)"
   ]
  }
 ],
 "metadata": {
  "kernelspec": {
   "display_name": "Python 3",
   "language": "python",
   "name": "python3"
  },
  "language_info": {
   "codemirror_mode": {
    "name": "ipython",
    "version": 3
   },
   "file_extension": ".py",
   "mimetype": "text/x-python",
   "name": "python",
   "nbconvert_exporter": "python",
   "pygments_lexer": "ipython3",
   "version": "3.8.8"
  }
 },
 "nbformat": 4,
 "nbformat_minor": 5
}
